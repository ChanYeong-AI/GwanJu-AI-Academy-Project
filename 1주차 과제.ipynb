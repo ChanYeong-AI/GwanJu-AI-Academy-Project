{
  "nbformat": 4,
  "nbformat_minor": 0,
  "metadata": {
    "colab": {
      "name": "Untitled0.ipynb",
      "provenance": [],
      "collapsed_sections": [],
      "toc_visible": true,
      "authorship_tag": "ABX9TyMr3VKyOK1aXJfRIl7uscFs",
      "include_colab_link": true
    },
    "kernelspec": {
      "name": "python3",
      "display_name": "Python 3"
    }
  },
  "cells": [
    {
      "cell_type": "markdown",
      "metadata": {
        "id": "view-in-github",
        "colab_type": "text"
      },
      "source": [
        "<a href=\"https://colab.research.google.com/github/ChanYeong-AI/GwanJu-AI-Academy-Project/blob/master/1%EC%A3%BC%EC%B0%A8%20%EA%B3%BC%EC%A0%9C.ipynb\" target=\"_parent\"><img src=\"https://colab.research.google.com/assets/colab-badge.svg\" alt=\"Open In Colab\"/></a>"
      ]
    },
    {
      "cell_type": "markdown",
      "metadata": {
        "id": "ChivC2m1Z2uZ",
        "colab_type": "text"
      },
      "source": [
        "# 1주차 과제\n"
      ]
    },
    {
      "cell_type": "markdown",
      "metadata": {
        "id": "QHDbwPR7aXOH",
        "colab_type": "text"
      },
      "source": [
        "## 음성\n",
        "\n",
        "음성 인식 처리 기술은 2000년 초에도 있었습니다만 많은 소음과 부정확한 발음 속에서도 사람의 음성을 정확하게 문장으로 치환하는 기술을 대중이 쉽게 접할 수 있게된 것은 그리 오래 된 일이 아닙니다.\n",
        "\n",
        "그래서 그런지 많은 인공지능 기술들 중에서 가장 대중적으로 익숙한 것이 음성 인식 기술인지도 모르겠습니다.\n",
        "\n",
        "오늘날에 음성 인식 기술을 활용한 사례로써 가장 대중적인 서비스는 바로 '가상 AI 서비스'라고 할 수 있습니다.\n",
        "\n",
        "국내 3대 통신사 뿐만 아니라 많은 대기업들이 각자 하나씩 가상 AI 서비스를 제공하는 'AI 스피커'를 개발 및 판매하고 있습니다. 특정한 말을 하면 그에 맞는 명령을 수행하여 사람들이 더 편하고 즐거운 생활을 보낼 수 있도록 도와줍니다.\n",
        "\n",
        "특히 사물인터넷 기술이 더욱 활발하게 사용되어 '스마트홈' 시대가 멀지 않은 지금, 가상 AI 서비스는 없어서는 안되는 요소입니다.\n",
        "\n",
        "꼭 가상 AI 서비스가 아니더라도 사람의 음성을 인식하여 분류하고 그에 맞게 처리하는 작업은 앞으로의 인공지능 기술의 기반이 될 것이라고 생각합니다."
      ]
    },
    {
      "cell_type": "markdown",
      "metadata": {
        "id": "knd_iHQJZ5SP",
        "colab_type": "text"
      },
      "source": [
        ""
      ]
    }
  ]
}