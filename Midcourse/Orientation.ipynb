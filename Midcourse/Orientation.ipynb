{
  "nbformat": 4,
  "nbformat_minor": 0,
  "metadata": {
    "colab": {
      "name": "Untitled0.ipynb",
      "provenance": [],
      "collapsed_sections": [],
      "authorship_tag": "ABX9TyOwe3t5gBWKnTqcOm9WKHpP",
      "include_colab_link": true
    },
    "kernelspec": {
      "name": "python3",
      "display_name": "Python 3"
    }
  },
  "cells": [
    {
      "cell_type": "markdown",
      "metadata": {
        "id": "view-in-github",
        "colab_type": "text"
      },
      "source": [
        "<a href=\"https://colab.research.google.com/github/ChanYeong-AI/GwanJu-AI-Academy-Project/blob/master/Midcourse/Orientation.ipynb\" target=\"_parent\"><img src=\"https://colab.research.google.com/assets/colab-badge.svg\" alt=\"Open In Colab\"/></a>"
      ]
    },
    {
      "cell_type": "code",
      "metadata": {
        "id": "3LNXEN8HfMLQ",
        "colab_type": "code",
        "colab": {}
      },
      "source": [
        "# 오리엔테이션\n",
        "##1. 장순용 박사\n",
        "\n",
        "1) 물리학은 AI와 밀접한 관련이 있다.\n",
        "2) 취업준비생 대상 교육을 진행하였음\n",
        "\n",
        "##2. 교육과정의 키 포인트\n",
        "1) 인공지능 알고리즘의 이해와 활용\n",
        "2) 빅데이터 분석의 이해와 활용\n",
        "3) 파이썬 사용\n",
        "4) *데이터 프로젝트 수행 능력 함양(가장 중요)*\n",
        "\n"
      ],
      "execution_count": null,
      "outputs": []
    }
  ]
}