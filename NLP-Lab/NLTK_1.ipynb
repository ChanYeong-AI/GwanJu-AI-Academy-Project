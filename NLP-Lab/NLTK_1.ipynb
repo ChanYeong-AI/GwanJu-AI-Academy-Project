{
  "nbformat": 4,
  "nbformat_minor": 0,
  "metadata": {
    "colab": {
      "name": "Untitled0.ipynb",
      "provenance": [],
      "collapsed_sections": [],
      "authorship_tag": "ABX9TyMX8eGUi64WDiidpa5b1YVU",
      "include_colab_link": true
    },
    "kernelspec": {
      "name": "python3",
      "display_name": "Python 3"
    }
  },
  "cells": [
    {
      "cell_type": "markdown",
      "metadata": {
        "id": "view-in-github",
        "colab_type": "text"
      },
      "source": [
        "<a href=\"https://colab.research.google.com/github/ChanYeong-AI/GwanJu-AI-Academy-Project/blob/master/NLP-Lab/NLTK_1.ipynb\" target=\"_parent\"><img src=\"https://colab.research.google.com/assets/colab-badge.svg\" alt=\"Open In Colab\"/></a>"
      ]
    },
    {
      "cell_type": "code",
      "metadata": {
        "id": "5dlehi5HjDFB",
        "colab_type": "code",
        "colab": {}
      },
      "source": [
        "import nltk as nt"
      ],
      "execution_count": 1,
      "outputs": []
    },
    {
      "cell_type": "code",
      "metadata": {
        "id": "KnD5d_D3jKn6",
        "colab_type": "code",
        "colab": {}
      },
      "source": [
        "nt.download(\"book\", quiet=True)\n",
        "from nltk.book import *"
      ],
      "execution_count": 5,
      "outputs": []
    },
    {
      "cell_type": "code",
      "metadata": {
        "id": "DSlbjBYxjbkw",
        "colab_type": "code",
        "colab": {}
      },
      "source": [
        ""
      ],
      "execution_count": null,
      "outputs": []
    }
  ]
}